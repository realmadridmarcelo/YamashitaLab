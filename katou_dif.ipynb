{
 "metadata": {
  "language_info": {
   "codemirror_mode": {
    "name": "ipython",
    "version": 3
   },
   "file_extension": ".py",
   "mimetype": "text/x-python",
   "name": "python",
   "nbconvert_exporter": "python",
   "pygments_lexer": "ipython3",
   "version": 3
  },
  "orig_nbformat": 2
 },
 "nbformat": 4,
 "nbformat_minor": 2,
 "cells": [
  {
   "cell_type": "code",
   "execution_count": null,
   "metadata": {},
   "outputs": [],
   "source": [
    "import numpy as np\n",
    "from scipy.integrate import odeint\n",
    "import matplotlib.pyplot as plt\n",
    "from mpl_toolkits.mplot3d import Axes3D\n",
    "\n",
    "\n",
    "#1階連立常微分方程式（Lorenz方程式）\n",
    "def func_lorenz(var, t, p, r, b):\n",
    "    dxdt = -p*var[0] +p*var[1]\n",
    "    dydt = -var[0]*var[2] +r*var[0] -var[1]\n",
    "    dzdt = var[0]*var[1] -b*var[2]\n",
    "\n",
    "    return [dxdt, dydt, dzdt]\n",
    "\n",
    "\n",
    "#3d可視化\n",
    "def plot3d(t_list, var_list):\n",
    "    fig = plt.figure()\n",
    "    ax = fig.gca(projection='3d')\n",
    "\n",
    "    ax.set_xlabel(\"$x$\")  #x軸の名前\n",
    "    ax.set_ylabel(\"$y$\")  #y軸の名前\n",
    "    ax.set_zlabel(\"$z$\")  #z軸の名前\n",
    "    ax.plot(var_list[:, 0], var_list[:, 1], var_list[:, 2])\n",
    "\n",
    "    plt.show()\n",
    "\n",
    "\n",
    "#メイン実行部\n",
    "if (__name__ == '__main__'):\n",
    "    #1階連立常微分方程式（Lorenz方程式）\n",
    "    t_list = np.linspace(0.0, 100.0, 10000)\n",
    "    p = 10\n",
    "    r = 28\n",
    "    b = 8/3\n",
    "    var_init = [0.1, 0.1, 0.1]  #3次元座標上での初期値\n",
    "    var_list = odeint(func_lorenz, var_init, t_list, args=(p, r, b))\n",
    "    print(var_list)\n",
    "\n",
    "    #可視化\n",
    "    plot3d(t_list, var_list)"
   ]
  }
 ]
}